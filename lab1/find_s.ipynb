{
 "cells": [
  {
   "cell_type": "code",
   "execution_count": 1,
   "metadata": {},
   "outputs": [],
   "source": [
    "import pandas as pd\n",
    "import numpy as np"
   ]
  },
  {
   "cell_type": "code",
   "execution_count": 2,
   "metadata": {},
   "outputs": [
    {
     "name": "stdout",
     "output_type": "stream",
     "text": [
      "     sky airtemp humidity    wind water forcast enjoysport\n",
      "0  sunny    warm   normal  strong  warm    same        yes\n",
      "1  sunny    warm     high  strong  warm    same        yes\n",
      "2  rainy    cold     high  strong  warm  change         no\n",
      "3  sunny    warm     high  strong  cool  change        yes\n"
     ]
    }
   ],
   "source": [
    "data = pd.read_csv(\"pgm1.csv\")\n",
    "print(data)"
   ]
  },
  {
   "cell_type": "code",
   "execution_count": 3,
   "metadata": {},
   "outputs": [
    {
     "name": "stdout",
     "output_type": "stream",
     "text": [
      "\n",
      " The attributes are: \n",
      " [['sunny' 'warm' 'normal' 'strong' 'warm' 'same']\n",
      " ['sunny' 'warm' 'high' 'strong' 'warm' 'same']\n",
      " ['rainy' 'cold' 'high' 'strong' 'warm' 'change']\n",
      " ['sunny' 'warm' 'high' 'strong' 'cool' 'change']]\n"
     ]
    }
   ],
   "source": [
    "d = np.array(data)[:,:-1]\n",
    "print(\"\\n The attributes are: \\n\",d)"
   ]
  },
  {
   "cell_type": "code",
   "execution_count": 4,
   "metadata": {},
   "outputs": [
    {
     "name": "stdout",
     "output_type": "stream",
     "text": [
      "\n",
      " The target is:  ['yes' 'yes' 'no' 'yes']\n"
     ]
    }
   ],
   "source": [
    "target = np.array(data)[:,-1]\n",
    "print(\"\\n The target is: \",target)"
   ]
  },
  {
   "cell_type": "code",
   "execution_count": 5,
   "metadata": {},
   "outputs": [
    {
     "name": "stdout",
     "output_type": "stream",
     "text": [
      "\n",
      "Instance  1 is ['sunny' 'warm' 'normal' 'strong' 'warm' 'same']  and is Positive Instance\n",
      "The hypothesis for the training instance 1  is:  ['sunny', 'warm', 'normal', 'strong', 'warm', 'same'] \n",
      "\n",
      "\n",
      "Instance  2 is ['sunny' 'warm' 'high' 'strong' 'warm' 'same']  and is Positive Instance\n",
      "The hypothesis for the training instance 2  is:  ['sunny', 'warm', '?', 'strong', 'warm', 'same'] \n",
      "\n",
      "\n",
      "Instance  3 is ['rainy' 'cold' 'high' 'strong' 'warm' 'change']  and is Negative Instance Hence Ignored\n",
      "\n",
      "Instance  4 is ['sunny' 'warm' 'high' 'strong' 'cool' 'change']  and is Positive Instance\n",
      "The hypothesis for the training instance 4  is:  ['sunny', 'warm', '?', 'strong', '?', '?'] \n",
      "\n",
      "\n",
      " The final hypothesis is: ['sunny', 'warm', '?', 'strong', '?', '?']\n"
     ]
    }
   ],
   "source": [
    "num_attribute = len(d[0])\n",
    "\n",
    "def train(c,t):\n",
    "    hypothesis = ['0']*num_attribute\n",
    "             \n",
    "    for i in range(0, len(d)):\n",
    "        if t[i] == 'yes':\n",
    "            print (\"\\nInstance \", i+1, \"is\", d[i], \" and is Positive Instance\")\n",
    "            for j in range(0, num_attribute):\n",
    "                if hypothesis[j] == '0' or hypothesis[j] == d[i][j]:\n",
    "                    hypothesis[j] = d[i][j]\n",
    "                else:\n",
    "                    hypothesis[j] = '?'\n",
    "            print(\"The hypothesis for the training instance\", i+1, \" is: \" , hypothesis, \"\\n\")\n",
    "            \n",
    "        if t[i] == 'no':\n",
    "            print (\"\\nInstance \", i+1, \"is\", d[i], \" and is Negative Instance Hence Ignored\")\n",
    "                 \n",
    "    return hypothesis\n",
    "\n",
    "print(\"\\n The final hypothesis is:\",train(d,target))"
   ]
  },
  {
   "cell_type": "code",
   "execution_count": null,
   "metadata": {},
   "outputs": [],
   "source": []
  }
 ],
 "metadata": {
  "kernelspec": {
   "display_name": "Python 3",
   "language": "python",
   "name": "python3"
  },
  "language_info": {
   "codemirror_mode": {
    "name": "ipython",
    "version": 3
   },
   "file_extension": ".py",
   "mimetype": "text/x-python",
   "name": "python",
   "nbconvert_exporter": "python",
   "pygments_lexer": "ipython3",
   "version": "3.8.3"
  }
 },
 "nbformat": 4,
 "nbformat_minor": 4
}
