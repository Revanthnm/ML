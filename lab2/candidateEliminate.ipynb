{
 "cells": [
  {
   "cell_type": "code",
   "execution_count": 19,
   "metadata": {},
   "outputs": [],
   "source": [
    "import numpy as np \n",
    "import pandas as pd"
   ]
  },
  {
   "cell_type": "code",
   "execution_count": 11,
   "metadata": {},
   "outputs": [
    {
     "name": "stdout",
     "output_type": "stream",
     "text": [
      "Training Set:\n",
      " [['sunny' 'warm' 'normal' 'strong' 'warm' 'same']\n",
      " ['sunny' 'warm' 'high' 'strong' 'warm' 'same']\n",
      " ['rainy' 'cold' 'high' 'strong' 'warm' 'change']\n",
      " ['sunny' 'warm' 'high' 'strong' 'cool' 'change']]\n"
     ]
    }
   ],
   "source": [
    "data = pd.read_csv('enjoysport.csv')\n",
    "d = np.array(data)[:,:-1]\n",
    "print(\"Training Set:\\n\",d) "
   ]
  },
  {
   "cell_type": "code",
   "execution_count": 12,
   "metadata": {},
   "outputs": [
    {
     "name": "stdout",
     "output_type": "stream",
     "text": [
      "target:  ['yes' 'yes' 'no' 'yes']\n"
     ]
    }
   ],
   "source": [
    "target = np.array(data)[:,-1] \n",
    "print(\"target: \",target)"
   ]
  },
  {
   "cell_type": "code",
   "execution_count": 18,
   "metadata": {},
   "outputs": [
    {
     "name": "stdout",
     "output_type": "stream",
     "text": [
      "initialization of specific_h and general_h\n",
      "specific_h: \n",
      " ['sunny' 'warm' 'normal' 'strong' 'warm' 'same'] \n",
      "\n",
      "general_h: \n",
      " [['?', '?', '?', '?', '?', '?'], ['?', '?', '?', '?', '?', '?'], ['?', '?', '?', '?', '?', '?'], ['?', '?', '?', '?', '?', '?'], ['?', '?', '?', '?', '?', '?'], ['?', '?', '?', '?', '?', '?']] \n",
      "\n",
      "For Training set  1\n",
      "The instance is Positive \n",
      " steps of Candidate Elimination Algorithm 1\n",
      "['sunny' 'warm' 'normal' 'strong' 'warm' 'same']\n",
      "[['?', '?', '?', '?', '?', '?'], ['?', '?', '?', '?', '?', '?'], ['?', '?', '?', '?', '?', '?'], ['?', '?', '?', '?', '?', '?'], ['?', '?', '?', '?', '?', '?'], ['?', '?', '?', '?', '?', '?']]\n",
      "\n",
      "\n",
      "\n",
      "\n",
      "For Training set  2\n",
      "The instance is Positive \n",
      " steps of Candidate Elimination Algorithm 2\n",
      "['sunny' 'warm' '?' 'strong' 'warm' 'same']\n",
      "[['?', '?', '?', '?', '?', '?'], ['?', '?', '?', '?', '?', '?'], ['?', '?', '?', '?', '?', '?'], ['?', '?', '?', '?', '?', '?'], ['?', '?', '?', '?', '?', '?'], ['?', '?', '?', '?', '?', '?']]\n",
      "\n",
      "\n",
      "\n",
      "\n",
      "For Training set  3\n",
      "If instance is Negative \n",
      " steps of Candidate Elimination Algorithm 3\n",
      "['sunny' 'warm' '?' 'strong' 'warm' 'same']\n",
      "[['sunny', '?', '?', '?', '?', '?'], ['?', 'warm', '?', '?', '?', '?'], ['?', '?', '?', '?', '?', '?'], ['?', '?', '?', '?', '?', '?'], ['?', '?', '?', '?', '?', '?'], ['?', '?', '?', '?', '?', 'same']]\n",
      "\n",
      "\n",
      "\n",
      "\n",
      "For Training set  4\n",
      "The instance is Positive \n",
      " steps of Candidate Elimination Algorithm 4\n",
      "['sunny' 'warm' '?' 'strong' '?' '?']\n",
      "[['sunny', '?', '?', '?', '?', '?'], ['?', 'warm', '?', '?', '?', '?'], ['?', '?', '?', '?', '?', '?'], ['?', '?', '?', '?', '?', '?'], ['?', '?', '?', '?', '?', '?'], ['?', '?', '?', '?', '?', '?']]\n",
      "\n",
      "\n",
      "\n",
      "\n",
      "Final Specific_h:\n",
      "['sunny' 'warm' '?' 'strong' '?' '?']\n",
      "Final General_h:\n",
      "[['sunny', '?', '?', '?', '?', '?'], ['?', 'warm', '?', '?', '?', '?']]\n"
     ]
    }
   ],
   "source": [
    "def learn(c, t): \n",
    "    specific_h = c[0].copy()     \n",
    "    print(\"initialization of specific_h and general_h\")     \n",
    "    print(\"specific_h: \\n\",specific_h,\"\\n\")  \n",
    "    general_h = [[\"?\" for i in range(len(specific_h))] for i in range(len(specific_h))]     \n",
    "    print(\"general_h: \\n\",general_h,\"\\n\")  \n",
    "\n",
    "    for i, h in enumerate(c):\n",
    "        print(\"For Training set \",i+1)\n",
    "        if t[i] == \"yes\":\n",
    "            print(\"The instance is Positive \")\n",
    "            for x in range(len(specific_h)): \n",
    "                if h[x]!= specific_h[x]:                    \n",
    "                    specific_h[x] ='?'                     \n",
    "                    general_h[x][x] ='?'\n",
    "                   \n",
    "        if t[i] == \"no\":            \n",
    "            print(\"If instance is Negative \")\n",
    "            for x in range(len(specific_h)): \n",
    "                if h[x]!= specific_h[x]:                    \n",
    "                    general_h[x][x] = specific_h[x]                \n",
    "                else:                    \n",
    "                    general_h[x][x] = '?'        \n",
    "\n",
    "        print(\" steps of Candidate Elimination Algorithm\",i+1)        \n",
    "        print(specific_h)         \n",
    "        print(general_h)\n",
    "        print(\"\\n\")\n",
    "        print(\"\\n\")\n",
    "\n",
    "    indices = [i for i, val in enumerate(general_h) if val == ['?', '?', '?', '?', '?', '?']]    \n",
    "    for i in indices:   \n",
    "        general_h.remove(['?', '?', '?', '?', '?', '?']) \n",
    "    return specific_h, general_h \n",
    "\n",
    "s_final, g_final = learn(d, target)\n",
    "\n",
    "print(\"Final Specific_h:\", s_final, sep=\"\\n\")\n",
    "print(\"Final General_h:\", g_final, sep=\"\\n\")"
   ]
  },
  {
   "cell_type": "code",
   "execution_count": null,
   "metadata": {},
   "outputs": [],
   "source": []
  }
 ],
 "metadata": {
  "kernelspec": {
   "display_name": "Python 3",
   "language": "python",
   "name": "python3"
  },
  "language_info": {
   "codemirror_mode": {
    "name": "ipython",
    "version": 3
   },
   "file_extension": ".py",
   "mimetype": "text/x-python",
   "name": "python",
   "nbconvert_exporter": "python",
   "pygments_lexer": "ipython3",
   "version": "3.8.3"
  }
 },
 "nbformat": 4,
 "nbformat_minor": 4
}
